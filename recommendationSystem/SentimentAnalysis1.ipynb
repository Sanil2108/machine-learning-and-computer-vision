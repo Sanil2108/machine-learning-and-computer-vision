{
 "cells": [
  {
   "cell_type": "code",
   "execution_count": 25,
   "metadata": {},
   "outputs": [],
   "source": [
    "import numpy as np\n",
    "from keras.preprocessing.text import one_hot\n",
    "from keras.preprocessing.sequence import pad_sequences\n",
    "from keras.models import Sequential\n",
    "from keras.layers import Flatten, Dense\n",
    "from keras.layers.embeddings import Embedding"
   ]
  },
  {
   "cell_type": "code",
   "execution_count": 2,
   "metadata": {},
   "outputs": [],
   "source": [
    "docs = [\n",
    "    'Good work',\n",
    "    'Great job',\n",
    "    'Nice work',\n",
    "    'Above average',\n",
    "    'Smart',\n",
    "    'Poor',\n",
    "    'Below average',\n",
    "    'Weak',\n",
    "    'Bad work',\n",
    "    'Could have done better'\n",
    "]\n",
    "labels = np.array([1, 1, 1, 1, 1, 0, 0, 0, 0, 0])"
   ]
  },
  {
   "cell_type": "code",
   "execution_count": 6,
   "metadata": {},
   "outputs": [
    {
     "name": "stdout",
     "output_type": "stream",
     "text": [
      "[[14, 10], [28, 44], [47, 10], [43, 41], [24], [41], [43, 41], [22], [33, 10], [26, 13, 15, 42]]\n"
     ]
    }
   ],
   "source": [
    "vocab_size = 50\n",
    "encoded_docs = [one_hot(d, vocab_size) for d in docs]\n",
    "print(encoded_docs)"
   ]
  },
  {
   "cell_type": "code",
   "execution_count": 18,
   "metadata": {},
   "outputs": [
    {
     "data": {
      "text/plain": [
       "[8, 3]"
      ]
     },
     "execution_count": 18,
     "metadata": {},
     "output_type": "execute_result"
    }
   ],
   "source": [
    "one_hot('Hello there', 10)"
   ]
  },
  {
   "cell_type": "code",
   "execution_count": 26,
   "metadata": {},
   "outputs": [],
   "source": [
    "max_length = 4\n",
    "pad_docs = pad_sequences(encoded_docs, maxlen=max_length, padding='post')"
   ]
  },
  {
   "cell_type": "code",
   "execution_count": 38,
   "metadata": {},
   "outputs": [
    {
     "name": "stdout",
     "output_type": "stream",
     "text": [
      "_________________________________________________________________\n",
      "Layer (type)                 Output Shape              Param #   \n",
      "=================================================================\n",
      "embedding_4 (Embedding)      (None, 4, 8)              400       \n",
      "_________________________________________________________________\n",
      "flatten_4 (Flatten)          (None, 32)                0         \n",
      "_________________________________________________________________\n",
      "dense_4 (Dense)              (None, 1)                 33        \n",
      "=================================================================\n",
      "Total params: 433\n",
      "Trainable params: 433\n",
      "Non-trainable params: 0\n",
      "_________________________________________________________________\n",
      "None\n"
     ]
    }
   ],
   "source": [
    "model = Sequential()\n",
    "model.add(Embedding(vocab_size, 8, input_length=max_length))\n",
    "model.add(Flatten())\n",
    "model.add(Dense(1, activation='sigmoid'))\n",
    "model.compile(optimizer='adam', loss='binary_crossentropy', metrics=['acc'])\n",
    "print(model.summary())"
   ]
  },
  {
   "cell_type": "code",
   "execution_count": 39,
   "metadata": {},
   "outputs": [
    {
     "name": "stdout",
     "output_type": "stream",
     "text": [
      "Epoch 1/50\n",
      "10/10 [==============================] - 0s 15ms/step - loss: 0.6962 - acc: 0.5000\n",
      "Epoch 2/50\n",
      "10/10 [==============================] - 0s 152us/step - loss: 0.6951 - acc: 0.5000\n",
      "Epoch 3/50\n",
      "10/10 [==============================] - 0s 92us/step - loss: 0.6935 - acc: 0.5000\n",
      "Epoch 4/50\n",
      "10/10 [==============================] - 0s 208us/step - loss: 0.6921 - acc: 0.5000\n",
      "Epoch 5/50\n",
      "10/10 [==============================] - 0s 181us/step - loss: 0.6905 - acc: 0.5000\n",
      "Epoch 6/50\n",
      "10/10 [==============================] - 0s 268us/step - loss: 0.6891 - acc: 0.5000\n",
      "Epoch 7/50\n",
      "10/10 [==============================] - 0s 349us/step - loss: 0.6876 - acc: 0.5000\n",
      "Epoch 8/50\n",
      "10/10 [==============================] - 0s 127us/step - loss: 0.6861 - acc: 0.5000\n",
      "Epoch 9/50\n",
      "10/10 [==============================] - 0s 145us/step - loss: 0.6846 - acc: 0.5000\n",
      "Epoch 10/50\n",
      "10/10 [==============================] - 0s 161us/step - loss: 0.6830 - acc: 0.5000\n",
      "Epoch 11/50\n",
      "10/10 [==============================] - 0s 132us/step - loss: 0.6815 - acc: 0.6000\n",
      "Epoch 12/50\n",
      "10/10 [==============================] - 0s 130us/step - loss: 0.6800 - acc: 0.5000\n",
      "Epoch 13/50\n",
      "10/10 [==============================] - 0s 88us/step - loss: 0.6785 - acc: 0.8000\n",
      "Epoch 14/50\n",
      "10/10 [==============================] - 0s 98us/step - loss: 0.6770 - acc: 0.8000\n",
      "Epoch 15/50\n",
      "10/10 [==============================] - 0s 177us/step - loss: 0.6755 - acc: 0.8000\n",
      "Epoch 16/50\n",
      "10/10 [==============================] - 0s 100us/step - loss: 0.6740 - acc: 0.8000\n",
      "Epoch 17/50\n",
      "10/10 [==============================] - 0s 279us/step - loss: 0.6724 - acc: 0.8000\n",
      "Epoch 18/50\n",
      "10/10 [==============================] - 0s 364us/step - loss: 0.6709 - acc: 0.8000\n",
      "Epoch 19/50\n",
      "10/10 [==============================] - 0s 149us/step - loss: 0.6694 - acc: 0.8000\n",
      "Epoch 20/50\n",
      "10/10 [==============================] - 0s 106us/step - loss: 0.6679 - acc: 0.8000\n",
      "Epoch 21/50\n",
      "10/10 [==============================] - 0s 287us/step - loss: 0.6663 - acc: 0.8000\n",
      "Epoch 22/50\n",
      "10/10 [==============================] - 0s 109us/step - loss: 0.6648 - acc: 0.8000\n",
      "Epoch 23/50\n",
      "10/10 [==============================] - 0s 122us/step - loss: 0.6632 - acc: 0.8000\n",
      "Epoch 24/50\n",
      "10/10 [==============================] - 0s 183us/step - loss: 0.6617 - acc: 0.8000\n",
      "Epoch 25/50\n",
      "10/10 [==============================] - 0s 84us/step - loss: 0.6601 - acc: 0.8000\n",
      "Epoch 26/50\n",
      "10/10 [==============================] - 0s 177us/step - loss: 0.6585 - acc: 0.8000\n",
      "Epoch 27/50\n",
      "10/10 [==============================] - 0s 87us/step - loss: 0.6570 - acc: 0.8000\n",
      "Epoch 28/50\n",
      "10/10 [==============================] - 0s 91us/step - loss: 0.6554 - acc: 0.8000\n",
      "Epoch 29/50\n",
      "10/10 [==============================] - 0s 150us/step - loss: 0.6538 - acc: 0.8000\n",
      "Epoch 30/50\n",
      "10/10 [==============================] - 0s 124us/step - loss: 0.6522 - acc: 0.8000\n",
      "Epoch 31/50\n",
      "10/10 [==============================] - 0s 76us/step - loss: 0.6506 - acc: 0.8000\n",
      "Epoch 32/50\n",
      "10/10 [==============================] - 0s 78us/step - loss: 0.6490 - acc: 0.8000\n",
      "Epoch 33/50\n",
      "10/10 [==============================] - 0s 81us/step - loss: 0.6474 - acc: 0.8000\n",
      "Epoch 34/50\n",
      "10/10 [==============================] - 0s 163us/step - loss: 0.6458 - acc: 0.8000\n",
      "Epoch 35/50\n",
      "10/10 [==============================] - 0s 145us/step - loss: 0.6442 - acc: 0.8000\n",
      "Epoch 36/50\n",
      "10/10 [==============================] - 0s 71us/step - loss: 0.6425 - acc: 0.8000\n",
      "Epoch 37/50\n",
      "10/10 [==============================] - 0s 80us/step - loss: 0.6409 - acc: 0.8000\n",
      "Epoch 38/50\n",
      "10/10 [==============================] - 0s 71us/step - loss: 0.6392 - acc: 0.8000\n",
      "Epoch 39/50\n",
      "10/10 [==============================] - 0s 82us/step - loss: 0.6375 - acc: 0.8000\n",
      "Epoch 40/50\n",
      "10/10 [==============================] - 0s 83us/step - loss: 0.6359 - acc: 0.8000\n",
      "Epoch 41/50\n",
      "10/10 [==============================] - 0s 76us/step - loss: 0.6342 - acc: 0.8000\n",
      "Epoch 42/50\n",
      "10/10 [==============================] - 0s 93us/step - loss: 0.6325 - acc: 0.8000\n",
      "Epoch 43/50\n",
      "10/10 [==============================] - 0s 105us/step - loss: 0.6308 - acc: 0.8000\n",
      "Epoch 44/50\n",
      "10/10 [==============================] - 0s 84us/step - loss: 0.6290 - acc: 0.8000\n",
      "Epoch 45/50\n",
      "10/10 [==============================] - 0s 209us/step - loss: 0.6273 - acc: 0.8000\n",
      "Epoch 46/50\n",
      "10/10 [==============================] - 0s 186us/step - loss: 0.6256 - acc: 0.8000\n",
      "Epoch 47/50\n",
      "10/10 [==============================] - 0s 203us/step - loss: 0.6238 - acc: 0.8000\n",
      "Epoch 48/50\n",
      "10/10 [==============================] - 0s 162us/step - loss: 0.6221 - acc: 0.8000\n",
      "Epoch 49/50\n",
      "10/10 [==============================] - 0s 174us/step - loss: 0.6203 - acc: 0.8000\n",
      "Epoch 50/50\n",
      "10/10 [==============================] - 0s 161us/step - loss: 0.6185 - acc: 0.8000\n"
     ]
    }
   ],
   "source": [
    "history = model.fit(pad_docs, labels, epochs=50, verbose=1)"
   ]
  },
  {
   "cell_type": "code",
   "execution_count": 40,
   "metadata": {},
   "outputs": [],
   "source": [
    "loss, acccuracy = model.evaluate(pad_docs, labels, verbose=0)"
   ]
  },
  {
   "cell_type": "code",
   "execution_count": 42,
   "metadata": {},
   "outputs": [
    {
     "data": {
      "text/plain": [
       "0.6167355179786682"
      ]
     },
     "execution_count": 42,
     "metadata": {},
     "output_type": "execute_result"
    }
   ],
   "source": [
    "loss"
   ]
  },
  {
   "cell_type": "code",
   "execution_count": null,
   "metadata": {},
   "outputs": [],
   "source": []
  }
 ],
 "metadata": {
  "kernelspec": {
   "display_name": "machine-learning-ai",
   "language": "python",
   "name": "machine-learning-ai"
  },
  "language_info": {
   "codemirror_mode": {
    "name": "ipython",
    "version": 3
   },
   "file_extension": ".py",
   "mimetype": "text/x-python",
   "name": "python",
   "nbconvert_exporter": "python",
   "pygments_lexer": "ipython3",
   "version": "3.6.7"
  }
 },
 "nbformat": 4,
 "nbformat_minor": 2
}
