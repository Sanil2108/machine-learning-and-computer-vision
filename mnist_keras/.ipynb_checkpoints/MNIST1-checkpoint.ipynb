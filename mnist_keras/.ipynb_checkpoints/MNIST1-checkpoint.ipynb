{
 "cells": [
  {
   "cell_type": "code",
   "execution_count": 108,
   "metadata": {},
   "outputs": [],
   "source": [
    "import pickle, gzip\n",
    "from sklearn import datasets\n",
    "import numpy as np\n",
    "from keras.optimizers import Adam\n",
    "from keras.layers import Dense, Flatten, MaxPooling2D, Conv2D\n",
    "from keras.models import Sequential\n",
    "from keras.utils import to_categorical"
   ]
  },
  {
   "cell_type": "code",
   "execution_count": 30,
   "metadata": {},
   "outputs": [],
   "source": [
    "with open('mnist.pkl', 'rb') as f:\n",
    "    u = pickle._Unpickler(f)\n",
    "    u.encoding = 'latin1'\n",
    "    p = u.load()"
   ]
  },
  {
   "cell_type": "code",
   "execution_count": 35,
   "metadata": {},
   "outputs": [],
   "source": [
    "train_set, valid_set, test_set = p"
   ]
  },
  {
   "cell_type": "code",
   "execution_count": 117,
   "metadata": {},
   "outputs": [],
   "source": [
    "X_train = train_set[0].reshape(50000, 28, 28, 1)\n",
    "Y_train = train_set[1]\n",
    "\n",
    "X_test = test_set[0].reshape(10000, 28, 28, 1)\n",
    "Y_test = test_set[1]\n",
    "\n",
    "X_valid = valid_set[0].reshape(10000, 28, 28, 1)\n",
    "Y_valid = valid_set[1]\n",
    "\n",
    "Y_train = to_categorical(Y_train)\n",
    "Y_test = to_categorical(Y_test)\n",
    "Y_valid = to_categorical(Y_valid)"
   ]
  },
  {
   "cell_type": "code",
   "execution_count": 118,
   "metadata": {},
   "outputs": [],
   "source": [
    "def leNet():\n",
    "    model = Sequential()\n",
    "    model.add( Conv2D(64, kernel_size = (3, 3)) )\n",
    "    model.add( MaxPooling2D( pool_size = (2, 2) ) )\n",
    "    model.add( Conv2D(32, kernel_size = 3, strides = 1) )\n",
    "    model.add( MaxPooling2D( pool_size = (2, 2) ) )\n",
    "    model.add( Flatten() )\n",
    "    model.add( Dense(32, activation = 'relu' ) )\n",
    "    model.add( Dense(10, activation = 'sigmoid' ) )\n",
    "    model.compile(optimizer='adam', loss='categorical_crossentropy', metrics=['accuracy'])\n",
    "    return model"
   ]
  },
  {
   "cell_type": "code",
   "execution_count": 119,
   "metadata": {},
   "outputs": [],
   "source": [
    "model = leNet()"
   ]
  },
  {
   "cell_type": "code",
   "execution_count": 121,
   "metadata": {},
   "outputs": [
    {
     "name": "stdout",
     "output_type": "stream",
     "text": [
      "Train on 50000 samples, validate on 10000 samples\n",
      "Epoch 1/3\n",
      "50000/50000 [==============================] - 34s 689us/step - loss: 0.1244 - acc: 0.9623 - val_loss: 0.0710 - val_acc: 0.9782\n",
      "Epoch 2/3\n",
      "50000/50000 [==============================] - 33s 669us/step - loss: 0.0699 - acc: 0.9784 - val_loss: 0.0513 - val_acc: 0.9833\n",
      "Epoch 3/3\n",
      "50000/50000 [==============================] - 33s 663us/step - loss: 0.0539 - acc: 0.9832 - val_loss: 0.0501 - val_acc: 0.9849\n"
     ]
    }
   ],
   "source": [
    "history = model.fit(X_train, Y_train, batch_size = 20, validation_data=(X_test, Y_test), epochs=3)"
   ]
  },
  {
   "cell_type": "code",
   "execution_count": 125,
   "metadata": {},
   "outputs": [
    {
     "data": {
      "text/plain": [
       "[<matplotlib.lines.Line2D at 0x7ffa201d83c8>]"
      ]
     },
     "execution_count": 125,
     "metadata": {},
     "output_type": "execute_result"
    },
    {
     "data": {
      "image/png": "[encoded data removed]",
      "text/plain": [
       "<Figure size 432x288 with 1 Axes>"
      ]
     },
     "metadata": {},
     "output_type": "display_data"
    }
   ],
   "source": [
    "plt.plot(history.history['acc'])"
   ]
  },
  {
   "cell_type": "code",
   "execution_count": 128,
   "metadata": {},
   "outputs": [
    {
     "data": {
      "text/plain": [
       "array([[3.2782555e-07, 0.0000000e+00, 1.0251999e-05, 5.2034855e-05,\n",
       "        0.0000000e+00, 1.4901161e-07, 0.0000000e+00, 9.8918879e-01,\n",
       "        0.0000000e+00, 1.2516975e-06],\n",
       "       [1.7076731e-05, 5.0663948e-06, 9.9492013e-01, 0.0000000e+00,\n",
       "        0.0000000e+00, 1.4901161e-07, 2.1755695e-06, 0.0000000e+00,\n",
       "        1.1920929e-07, 0.0000000e+00],\n",
       "       [7.1525574e-07, 1.2685061e-01, 4.1425228e-06, 0.0000000e+00,\n",
       "        4.9740076e-05, 1.1265278e-05, 1.4901161e-07, 1.1682510e-05,\n",
       "        2.3841858e-07, 1.7881393e-07],\n",
       "       [3.3511072e-01, 0.0000000e+00, 5.9604645e-08, 0.0000000e+00,\n",
       "        0.0000000e+00, 0.0000000e+00, 3.3676624e-06, 0.0000000e+00,\n",
       "        2.0861626e-07, 0.0000000e+00]], dtype=float32)"
      ]
     },
     "execution_count": 128,
     "metadata": {},
     "output_type": "execute_result"
    }
   ],
   "source": [
    "model.predict(X_test[:4])"
   ]
  },
  {
   "cell_type": "code",
   "execution_count": 109,
   "metadata": {},
   "outputs": [
    {
     "data": {
      "text/plain": [
       "array([[0., 1., 0., 0., 0., 0., 0., 0., 0., 0., 0.],\n",
       "       [0., 0., 1., 0., 0., 0., 0., 0., 0., 0., 0.],\n",
       "       [0., 0., 0., 1., 0., 0., 0., 0., 0., 0., 0.],\n",
       "       [0., 0., 0., 0., 1., 0., 0., 0., 0., 0., 0.],\n",
       "       [0., 0., 0., 0., 0., 0., 0., 0., 0., 0., 1.]], dtype=float32)"
      ]
     },
     "execution_count": 109,
     "metadata": {},
     "output_type": "execute_result"
    }
   ],
   "source": [
    "to_categorical([1 ,2 , 3, 4, 10])"
   ]
  },
  {
   "cell_type": "code",
   "execution_count": 170,
   "metadata": {},
   "outputs": [
    {
     "name": "stdout",
     "output_type": "stream",
     "text": [
      "[9, 6, 6, 5, 4, 0, 7, 4, 0, 1]\n"
     ]
    },
    {
     "data": {
      "image/png": "[encoded data removed]",
      "text/plain": [
       "<Figure size 432x288 with 10 Axes>"
      ]
     },
     "metadata": {},
     "output_type": "display_data"
    }
   ],
   "source": [
    "images_to_show = X_test[20:30]\n",
    "_, ax = plt.subplots(nrows = int(len(images_to_show)/5), ncols = 5)\n",
    "plt.tight_layout()\n",
    "count = 0\n",
    "while True:\n",
    "    if count >= len(images_to_show):\n",
    "        break\n",
    "    ax[ int(count/5) ][ count%5 ].imshow(X_test[count].reshape(28, 28))\n",
    "    count += 1\n",
    "\n",
    "predictions = model.predict(images_to_show)\n",
    "print( [ list(images).index(max(images)) for images in model.predict(images_to_show) ] )"
   ]
  },
  {
   "cell_type": "code",
   "execution_count": 167,
   "metadata": {},
   "outputs": [
    {
     "data": {
      "text/plain": [
       "array([[0.00000000e+00, 0.00000000e+00, 0.00000000e+00, 5.96046448e-08,\n",
       "        5.24520874e-06, 8.94069672e-08, 0.00000000e+00, 1.06006861e-04,\n",
       "        3.18884850e-06, 3.66499513e-01],\n",
       "       [0.00000000e+00, 0.00000000e+00, 2.98023224e-08, 0.00000000e+00,\n",
       "        1.78813934e-07, 1.18255615e-04, 5.65655589e-01, 0.00000000e+00,\n",
       "        1.37090683e-06, 8.94069672e-08],\n",
       "       [2.26497650e-06, 0.00000000e+00, 0.00000000e+00, 0.00000000e+00,\n",
       "        0.00000000e+00, 0.00000000e+00, 4.08419073e-02, 0.00000000e+00,\n",
       "        8.34465027e-07, 0.00000000e+00],\n",
       "       [0.00000000e+00, 0.00000000e+00, 0.00000000e+00, 4.50015068e-06,\n",
       "        0.00000000e+00, 9.70094085e-01, 1.40070915e-06, 0.00000000e+00,\n",
       "        5.36441803e-07, 2.68220901e-07],\n",
       "       [1.19209290e-07, 1.28149986e-06, 9.11951065e-06, 0.00000000e+00,\n",
       "        9.54451323e-01, 0.00000000e+00, 8.94069672e-07, 4.82797623e-06,\n",
       "        2.08616257e-07, 1.88708305e-04],\n",
       "       [9.86901700e-01, 0.00000000e+00, 0.00000000e+00, 0.00000000e+00,\n",
       "        5.96046448e-08, 7.74860382e-07, 7.15255737e-06, 6.70552254e-06,\n",
       "        5.66244125e-07, 0.00000000e+00],\n",
       "       [3.45706940e-05, 0.00000000e+00, 1.24722719e-04, 4.90844250e-04,\n",
       "        0.00000000e+00, 1.58548355e-05, 0.00000000e+00, 8.62444639e-01,\n",
       "        5.96046448e-08, 1.65104866e-05],\n",
       "       [0.00000000e+00, 0.00000000e+00, 0.00000000e+00, 0.00000000e+00,\n",
       "        9.91465271e-01, 0.00000000e+00, 0.00000000e+00, 0.00000000e+00,\n",
       "        0.00000000e+00, 2.14576721e-06],\n",
       "       [4.77399528e-02, 0.00000000e+00, 1.69873238e-06, 0.00000000e+00,\n",
       "        0.00000000e+00, 0.00000000e+00, 0.00000000e+00, 0.00000000e+00,\n",
       "        2.38418579e-07, 0.00000000e+00],\n",
       "       [3.27825546e-07, 1.39941692e-01, 4.03523445e-05, 2.32458115e-05,\n",
       "        7.86781311e-06, 2.41398811e-05, 1.13248825e-06, 3.90410423e-06,\n",
       "        9.68575478e-06, 1.78515911e-05],\n",
       "       [0.00000000e+00, 0.00000000e+00, 0.00000000e+00, 7.57137120e-01,\n",
       "        0.00000000e+00, 9.92417336e-06, 0.00000000e+00, 0.00000000e+00,\n",
       "        0.00000000e+00, 2.83122063e-06],\n",
       "       [1.04308128e-06, 2.40356892e-01, 2.57194042e-05, 2.25305557e-05,\n",
       "        1.69843435e-04, 2.41398811e-05, 8.04662704e-07, 7.17341900e-05,\n",
       "        9.79006290e-05, 2.98619270e-04],\n",
       "       [0.00000000e+00, 0.00000000e+00, 2.14576721e-06, 9.10022140e-01,\n",
       "        0.00000000e+00, 5.66244125e-07, 0.00000000e+00, 0.00000000e+00,\n",
       "        5.06639481e-07, 1.49011612e-07],\n",
       "       [5.78433275e-03, 1.78813934e-07, 1.85906887e-04, 0.00000000e+00,\n",
       "        8.50722671e-01, 3.81469727e-06, 1.88285708e-02, 8.94069672e-08,\n",
       "        0.00000000e+00, 0.00000000e+00],\n",
       "       [0.00000000e+00, 0.00000000e+00, 2.08616257e-06, 1.15931034e-05,\n",
       "        0.00000000e+00, 0.00000000e+00, 0.00000000e+00, 7.23445356e-01,\n",
       "        1.63912773e-06, 5.96046448e-08],\n",
       "       [1.19209290e-07, 0.00000000e+00, 9.99021411e-01, 1.54376030e-05,\n",
       "        0.00000000e+00, 0.00000000e+00, 0.00000000e+00, 9.83476639e-07,\n",
       "        1.78813934e-07, 0.00000000e+00],\n",
       "       [8.34465027e-07, 0.00000000e+00, 5.89221716e-03, 5.39422035e-06,\n",
       "        0.00000000e+00, 0.00000000e+00, 0.00000000e+00, 1.32749707e-01,\n",
       "        0.00000000e+00, 0.00000000e+00],\n",
       "       [2.08616257e-07, 2.38989055e-01, 8.82148743e-06, 6.25848770e-07,\n",
       "        1.67489052e-05, 9.53674316e-07, 6.25848770e-07, 5.27501106e-06,\n",
       "        3.29017639e-05, 4.51803207e-05],\n",
       "       [4.97996807e-05, 0.00000000e+00, 2.17590243e-01, 0.00000000e+00,\n",
       "        0.00000000e+00, 5.96046448e-08, 1.19209290e-07, 7.15255737e-07,\n",
       "        5.06639481e-07, 0.00000000e+00],\n",
       "       [0.00000000e+00, 3.39508355e-02, 2.02655792e-06, 2.98023224e-08,\n",
       "        1.31130219e-06, 1.19209290e-07, 1.19209290e-07, 0.00000000e+00,\n",
       "        6.25848770e-07, 1.49011612e-07]], dtype=float32)"
      ]
     },
     "execution_count": 167,
     "metadata": {},
     "output_type": "execute_result"
    }
   ],
   "source": [
    "predictions"
   ]
  },
  {
   "cell_type": "code",
   "execution_count": null,
   "metadata": {},
   "outputs": [],
   "source": []
  }
 ],
 "metadata": {
  "kernelspec": {
   "display_name": "machine-learning-ai",
   "language": "python",
   "name": "machine-learning-ai"
  },
  "language_info": {
   "codemirror_mode": {
    "name": "ipython",
    "version": 3
   },
   "file_extension": ".py",
   "mimetype": "text/x-python",
   "name": "python",
   "nbconvert_exporter": "python",
   "pygments_lexer": "ipython3",
   "version": "3.6.7"
  }
 },
 "nbformat": 4,
 "nbformat_minor": 2
}
