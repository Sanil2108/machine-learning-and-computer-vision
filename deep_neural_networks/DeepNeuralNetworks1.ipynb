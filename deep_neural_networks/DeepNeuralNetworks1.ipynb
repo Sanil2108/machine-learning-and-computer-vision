{
 "cells": [
  {
   "cell_type": "code",
   "execution_count": 26,
   "metadata": {
    "collapsed": false
   },
   "outputs": [],
   "source": [
    "from sklearn import datasets\n",
    "import numpy as np\n",
    "import matplotlib.pyplot as plt\n",
    "\n",
    "import keras\n",
    "from keras.models import Sequential\n",
    "from keras.layers import Dense\n",
    "from keras.optimizers import Adam"
   ]
  },
  {
   "cell_type": "code",
   "execution_count": 23,
   "metadata": {
    "collapsed": false
   },
   "outputs": [
    {
     "data": {
      "text/plain": [
       "<matplotlib.collections.PathCollection at 0x7f8844174710>"
      ]
     },
     "execution_count": 23,
     "metadata": {},
     "output_type": "execute_result"
    }
   ],
   "source": [
    "n_pts = 500\n",
    "X, y = datasets.make_circles(n_samples=n_pts, random_state=123, noise=0.1, \n",
    "                             factor = 0.2)\n",
    "plt.scatter(X[:, 0][y==0], X[:, 1][y==0])\n",
    "plt.scatter(X[:, 0][y==1], X[:, 1][y==1])"
   ]
  },
  {
   "cell_type": "code",
   "execution_count": 24,
   "metadata": {
    "collapsed": false
   },
   "outputs": [
    {
     "data": {
      "image/png": "[encoded data removed]",
      "text/plain": [
       "<Figure size 432x288 with 1 Axes>"
      ]
     },
     "metadata": {},
     "output_type": "display_data"
    }
   ],
   "source": [
    "plt.show()"
   ]
  },
  {
   "cell_type": "code",
   "execution_count": 33,
   "metadata": {
    "collapsed": false
   },
   "outputs": [
    {
     "name": "stdout",
     "output_type": "stream",
     "text": [
      "Epoch 1/100\n",
      "500/500 [==============================] - 0s 499us/step - loss: 0.7043 - acc: 0.3620\n",
      "Epoch 2/100\n",
      "500/500 [==============================] - 0s 81us/step - loss: 0.6961 - acc: 0.5620\n",
      "Epoch 3/100\n",
      "500/500 [==============================] - 0s 49us/step - loss: 0.6956 - acc: 0.6340\n",
      "Epoch 4/100\n",
      "500/500 [==============================] - 0s 61us/step - loss: 0.6941 - acc: 0.3980\n",
      "Epoch 5/100\n",
      "500/500 [==============================] - 0s 62us/step - loss: 0.6939 - acc: 0.6360\n",
      "Epoch 6/100\n",
      "500/500 [==============================] - 0s 59us/step - loss: 0.6925 - acc: 0.6240\n",
      "Epoch 7/100\n",
      "500/500 [==============================] - 0s 55us/step - loss: 0.6898 - acc: 0.3960\n",
      "Epoch 8/100\n",
      "500/500 [==============================] - 0s 74us/step - loss: 0.6864 - acc: 0.3860\n",
      "Epoch 9/100\n",
      "500/500 [==============================] - 0s 87us/step - loss: 0.6828 - acc: 0.6780\n",
      "Epoch 10/100\n",
      "500/500 [==============================] - 0s 59us/step - loss: 0.6780 - acc: 0.8200\n",
      "Epoch 11/100\n",
      "500/500 [==============================] - 0s 55us/step - loss: 0.6712 - acc: 0.8200\n",
      "Epoch 12/100\n",
      "500/500 [==============================] - 0s 58us/step - loss: 0.6632 - acc: 0.8180\n",
      "Epoch 13/100\n",
      "500/500 [==============================] - 0s 70us/step - loss: 0.6529 - acc: 0.6920\n",
      "Epoch 14/100\n",
      "500/500 [==============================] - 0s 62us/step - loss: 0.6405 - acc: 0.8380\n",
      "Epoch 15/100\n",
      "500/500 [==============================] - 0s 90us/step - loss: 0.6251 - acc: 0.8720\n",
      "Epoch 16/100\n",
      "500/500 [==============================] - 0s 44us/step - loss: 0.6089 - acc: 0.8660\n",
      "Epoch 17/100\n",
      "500/500 [==============================] - 0s 59us/step - loss: 0.5901 - acc: 0.8640\n",
      "Epoch 18/100\n",
      "500/500 [==============================] - 0s 69us/step - loss: 0.5714 - acc: 0.8880\n",
      "Epoch 19/100\n",
      "500/500 [==============================] - 0s 53us/step - loss: 0.5507 - acc: 0.8700\n",
      "Epoch 20/100\n",
      "500/500 [==============================] - 0s 62us/step - loss: 0.5290 - acc: 0.8720\n",
      "Epoch 21/100\n",
      "500/500 [==============================] - 0s 51us/step - loss: 0.5084 - acc: 0.8880\n",
      "Epoch 22/100\n",
      "500/500 [==============================] - 0s 59us/step - loss: 0.4854 - acc: 0.8800\n",
      "Epoch 23/100\n",
      "500/500 [==============================] - 0s 86us/step - loss: 0.4641 - acc: 0.8820\n",
      "Epoch 24/100\n",
      "500/500 [==============================] - 0s 45us/step - loss: 0.4423 - acc: 0.8920\n",
      "Epoch 25/100\n",
      "500/500 [==============================] - 0s 76us/step - loss: 0.4212 - acc: 0.8960\n",
      "Epoch 26/100\n",
      "500/500 [==============================] - 0s 63us/step - loss: 0.4000 - acc: 0.9060\n",
      "Epoch 27/100\n",
      "500/500 [==============================] - 0s 64us/step - loss: 0.3793 - acc: 0.9120\n",
      "Epoch 28/100\n",
      "500/500 [==============================] - 0s 48us/step - loss: 0.3595 - acc: 0.9140\n",
      "Epoch 29/100\n",
      "500/500 [==============================] - 0s 70us/step - loss: 0.3388 - acc: 0.9240\n",
      "Epoch 30/100\n",
      "500/500 [==============================] - 0s 80us/step - loss: 0.3199 - acc: 0.9320\n",
      "Epoch 31/100\n",
      "500/500 [==============================] - 0s 63us/step - loss: 0.3016 - acc: 0.9380\n",
      "Epoch 32/100\n",
      "500/500 [==============================] - 0s 59us/step - loss: 0.2836 - acc: 0.9440\n",
      "Epoch 33/100\n",
      "500/500 [==============================] - 0s 63us/step - loss: 0.2667 - acc: 0.9480\n",
      "Epoch 34/100\n",
      "500/500 [==============================] - 0s 49us/step - loss: 0.2504 - acc: 0.9640\n",
      "Epoch 35/100\n",
      "500/500 [==============================] - 0s 36us/step - loss: 0.2363 - acc: 0.9720\n",
      "Epoch 36/100\n",
      "500/500 [==============================] - 0s 87us/step - loss: 0.2213 - acc: 0.9740\n",
      "Epoch 37/100\n",
      "500/500 [==============================] - 0s 79us/step - loss: 0.2081 - acc: 0.9820\n",
      "Epoch 38/100\n",
      "500/500 [==============================] - 0s 72us/step - loss: 0.1962 - acc: 0.9880\n",
      "Epoch 39/100\n",
      "500/500 [==============================] - 0s 112us/step - loss: 0.1848 - acc: 0.9900\n",
      "Epoch 40/100\n",
      "500/500 [==============================] - 0s 60us/step - loss: 0.1742 - acc: 0.9920\n",
      "Epoch 41/100\n",
      "500/500 [==============================] - 0s 35us/step - loss: 0.1645 - acc: 0.9920\n",
      "Epoch 42/100\n",
      "500/500 [==============================] - 0s 39us/step - loss: 0.1558 - acc: 0.9920\n",
      "Epoch 43/100\n",
      "500/500 [==============================] - 0s 38us/step - loss: 0.1476 - acc: 0.9920\n",
      "Epoch 44/100\n",
      "500/500 [==============================] - 0s 37us/step - loss: 0.1401 - acc: 0.9940\n",
      "Epoch 45/100\n",
      "500/500 [==============================] - 0s 47us/step - loss: 0.1328 - acc: 0.9940\n",
      "Epoch 46/100\n",
      "500/500 [==============================] - 0s 45us/step - loss: 0.1263 - acc: 0.9940\n",
      "Epoch 47/100\n",
      "500/500 [==============================] - 0s 39us/step - loss: 0.1203 - acc: 0.9940\n",
      "Epoch 48/100\n",
      "500/500 [==============================] - 0s 85us/step - loss: 0.1148 - acc: 0.9960\n",
      "Epoch 49/100\n",
      "500/500 [==============================] - 0s 59us/step - loss: 0.1095 - acc: 0.9960\n",
      "Epoch 50/100\n",
      "500/500 [==============================] - 0s 34us/step - loss: 0.1046 - acc: 0.9960\n",
      "Epoch 51/100\n",
      "500/500 [==============================] - 0s 45us/step - loss: 0.1001 - acc: 0.9960\n",
      "Epoch 52/100\n",
      "500/500 [==============================] - 0s 49us/step - loss: 0.0958 - acc: 0.9960\n",
      "Epoch 53/100\n",
      "500/500 [==============================] - 0s 35us/step - loss: 0.0919 - acc: 0.9980\n",
      "Epoch 54/100\n",
      "500/500 [==============================] - 0s 49us/step - loss: 0.0881 - acc: 0.9980\n",
      "Epoch 55/100\n",
      "500/500 [==============================] - 0s 41us/step - loss: 0.0846 - acc: 0.9980\n",
      "Epoch 56/100\n",
      "500/500 [==============================] - 0s 34us/step - loss: 0.0812 - acc: 0.9980\n",
      "Epoch 57/100\n",
      "500/500 [==============================] - 0s 44us/step - loss: 0.0782 - acc: 1.0000\n",
      "Epoch 58/100\n",
      "500/500 [==============================] - 0s 38us/step - loss: 0.0751 - acc: 1.0000\n",
      "Epoch 59/100\n",
      "500/500 [==============================] - 0s 44us/step - loss: 0.0726 - acc: 1.0000\n",
      "Epoch 60/100\n",
      "500/500 [==============================] - 0s 49us/step - loss: 0.0698 - acc: 1.0000\n",
      "Epoch 61/100\n",
      "500/500 [==============================] - 0s 39us/step - loss: 0.0674 - acc: 0.9980\n",
      "Epoch 62/100\n",
      "500/500 [==============================] - 0s 41us/step - loss: 0.0650 - acc: 1.0000\n",
      "Epoch 63/100\n",
      "500/500 [==============================] - 0s 49us/step - loss: 0.0628 - acc: 1.0000\n",
      "Epoch 64/100\n",
      "500/500 [==============================] - 0s 46us/step - loss: 0.0607 - acc: 1.0000\n",
      "Epoch 65/100\n",
      "500/500 [==============================] - 0s 35us/step - loss: 0.0587 - acc: 1.0000\n",
      "Epoch 66/100\n",
      "500/500 [==============================] - 0s 47us/step - loss: 0.0568 - acc: 1.0000\n",
      "Epoch 67/100\n",
      "500/500 [==============================] - 0s 36us/step - loss: 0.0550 - acc: 1.0000\n",
      "Epoch 68/100\n",
      "500/500 [==============================] - 0s 39us/step - loss: 0.0533 - acc: 1.0000\n",
      "Epoch 69/100\n",
      "500/500 [==============================] - 0s 50us/step - loss: 0.0516 - acc: 1.0000\n",
      "Epoch 70/100\n",
      "500/500 [==============================] - 0s 42us/step - loss: 0.0500 - acc: 1.0000\n",
      "Epoch 71/100\n",
      "500/500 [==============================] - 0s 61us/step - loss: 0.0486 - acc: 1.0000\n",
      "Epoch 72/100\n",
      "500/500 [==============================] - 0s 40us/step - loss: 0.0472 - acc: 1.0000\n",
      "Epoch 73/100\n",
      "500/500 [==============================] - 0s 43us/step - loss: 0.0458 - acc: 1.0000\n",
      "Epoch 74/100\n",
      "500/500 [==============================] - 0s 37us/step - loss: 0.0446 - acc: 1.0000\n",
      "Epoch 75/100\n",
      "500/500 [==============================] - 0s 46us/step - loss: 0.0433 - acc: 1.0000\n",
      "Epoch 76/100\n",
      "500/500 [==============================] - 0s 44us/step - loss: 0.0421 - acc: 1.0000\n",
      "Epoch 77/100\n",
      "500/500 [==============================] - 0s 43us/step - loss: 0.0410 - acc: 1.0000\n",
      "Epoch 78/100\n",
      "500/500 [==============================] - 0s 41us/step - loss: 0.0399 - acc: 1.0000\n",
      "Epoch 79/100\n",
      "500/500 [==============================] - 0s 46us/step - loss: 0.0388 - acc: 1.0000\n",
      "Epoch 80/100\n",
      "500/500 [==============================] - 0s 34us/step - loss: 0.0379 - acc: 1.0000\n",
      "Epoch 81/100\n",
      "500/500 [==============================] - 0s 60us/step - loss: 0.0369 - acc: 1.0000\n",
      "Epoch 82/100\n",
      "500/500 [==============================] - 0s 53us/step - loss: 0.0360 - acc: 1.0000\n",
      "Epoch 83/100\n",
      "500/500 [==============================] - 0s 44us/step - loss: 0.0351 - acc: 1.0000\n",
      "Epoch 84/100\n",
      "500/500 [==============================] - 0s 35us/step - loss: 0.0342 - acc: 1.0000\n",
      "Epoch 85/100\n",
      "500/500 [==============================] - 0s 49us/step - loss: 0.0334 - acc: 1.0000\n",
      "Epoch 86/100\n",
      "500/500 [==============================] - 0s 44us/step - loss: 0.0327 - acc: 1.0000\n",
      "Epoch 87/100\n",
      "500/500 [==============================] - 0s 38us/step - loss: 0.0319 - acc: 1.0000\n",
      "Epoch 88/100\n",
      "500/500 [==============================] - 0s 44us/step - loss: 0.0311 - acc: 1.0000\n",
      "Epoch 89/100\n",
      "500/500 [==============================] - 0s 38us/step - loss: 0.0305 - acc: 1.0000\n",
      "Epoch 90/100\n",
      "500/500 [==============================] - 0s 36us/step - loss: 0.0297 - acc: 1.0000\n",
      "Epoch 91/100\n",
      "500/500 [==============================] - 0s 45us/step - loss: 0.0291 - acc: 1.0000\n",
      "Epoch 92/100\n",
      "500/500 [==============================] - 0s 44us/step - loss: 0.0285 - acc: 1.0000\n",
      "Epoch 93/100\n",
      "500/500 [==============================] - 0s 52us/step - loss: 0.0279 - acc: 1.0000\n",
      "Epoch 94/100\n",
      "500/500 [==============================] - 0s 43us/step - loss: 0.0273 - acc: 1.0000\n",
      "Epoch 95/100\n",
      "500/500 [==============================] - 0s 45us/step - loss: 0.0267 - acc: 1.0000\n",
      "Epoch 96/100\n",
      "500/500 [==============================] - 0s 36us/step - loss: 0.0261 - acc: 1.0000\n",
      "Epoch 97/100\n",
      "500/500 [==============================] - 0s 44us/step - loss: 0.0256 - acc: 1.0000\n",
      "Epoch 98/100\n",
      "500/500 [==============================] - 0s 42us/step - loss: 0.0251 - acc: 1.0000\n",
      "Epoch 99/100\n",
      "500/500 [==============================] - 0s 33us/step - loss: 0.0247 - acc: 1.0000\n",
      "Epoch 100/100\n",
      "500/500 [==============================] - 0s 46us/step - loss: 0.0241 - acc: 1.0000\n"
     ]
    }
   ],
   "source": [
    "model = Sequential()\n",
    "model.add(Dense(4, input_shape = (2, ), activation='sigmoid'))\n",
    "model.add(Dense(1, activation = 'sigmoid'))\n",
    "model.compile(Adam(lr = 0.01), 'binary_crossentropy', metrics = ['accuracy'])\n",
    "history=model.fit(x=X, y=y, verbose=1, batch_size=20, epochs=100, shuffle='true')"
   ]
  },
  {
   "cell_type": "code",
   "execution_count": 38,
   "metadata": {
    "collapsed": false
   },
   "outputs": [
    {
     "data": {
      "text/plain": [
       "[<matplotlib.lines.Line2D at 0x7f882c0420b8>]"
      ]
     },
     "execution_count": 38,
     "metadata": {},
     "output_type": "execute_result"
    }
   ],
   "source": [
    "plt.plot(history.history['acc'])\n",
    "plt.plot(history.history['loss'])"
   ]
  },
  {
   "cell_type": "code",
   "execution_count": 39,
   "metadata": {
    "collapsed": false
   },
   "outputs": [
    {
     "data": {
      "image/png": "[encoded data removed]",
      "text/plain": [
       "<Figure size 432x288 with 1 Axes>"
      ]
     },
     "metadata": {},
     "output_type": "display_data"
    }
   ],
   "source": [
    "plt.show()"
   ]
  },
  {
   "cell_type": "code",
   "execution_count": 42,
   "metadata": {
    "collapsed": false
   },
   "outputs": [
    {
     "data": {
      "text/plain": [
       "array([[0.9898142]], dtype=float32)"
      ]
     },
     "execution_count": 42,
     "metadata": {},
     "output_type": "execute_result"
    }
   ],
   "source": [
    "model.predict(np.array([[0.1, 0]]))"
   ]
  },
  {
   "cell_type": "code",
   "execution_count": null,
   "metadata": {
    "collapsed": true
   },
   "outputs": [],
   "source": []
  }
 ],
 "metadata": {
  "kernelspec": {
   "display_name": "Python 3",
   "language": "python",
   "name": "python3"
  },
  "language_info": {
   "codemirror_mode": {
    "name": "ipython",
    "version": 3
   },
   "file_extension": ".py",
   "mimetype": "text/x-python",
   "name": "python",
   "nbconvert_exporter": "python",
   "pygments_lexer": "ipython3",
   "version": "3.5.3"
  }
 },
 "nbformat": 4,
 "nbformat_minor": 2
}
