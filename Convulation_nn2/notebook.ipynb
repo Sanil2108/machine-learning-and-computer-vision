{
  "nbformat": 4,
  "nbformat_minor": 0,
  "metadata": {
    "colab": {
      "name": "Untitled1.ipynb",
      "version": "0.3.2",
      "provenance": [],
      "collapsed_sections": [],
      "include_colab_link": true
    },
    "kernelspec": {
      "name": "python3",
      "display_name": "Python 3"
    },
    "accelerator": "GPU"
  },
  "cells": [
    {
      "cell_type": "markdown",
      "metadata": {
        "id": "view-in-github",
        "colab_type": "text"
      },
      "source": [
        "<a href=\"https://colab.research.google.com/github/Sanil2108/machine-learning-and-computer-vision/blob/master/Convulation_nn2/notebook.ipynb\" target=\"_parent\"><img src=\"https://colab.research.google.com/assets/colab-badge.svg\" alt=\"Open In Colab\"/></a>"
      ]
    },
    {
      "metadata": {
        "id": "PZd2ZVAReYou",
        "colab_type": "code",
        "colab": {}
      },
      "cell_type": "code",
      "source": [
        "import keras\n",
        "from keras.layers import Dense, Dropout, Flatten, Conv2D, MaxPooling2D\n",
        "from keras.models import Sequential \n",
        "import numpy as np\n",
        "from keras.datasets import mnist"
      ],
      "execution_count": 0,
      "outputs": []
    },
    {
      "metadata": {
        "id": "8alxAR8KevUp",
        "colab_type": "code",
        "colab": {}
      },
      "cell_type": "code",
      "source": [
        "batch_size = 120\n",
        "num_classes = 10\n",
        "epochs = 12\n",
        "\n",
        "im_rows, im_cols = 28, 28"
      ],
      "execution_count": 0,
      "outputs": []
    },
    {
      "metadata": {
        "id": "FhvgqRQwfCea",
        "colab_type": "code",
        "colab": {}
      },
      "cell_type": "code",
      "source": [
        "data = mnist.load_data()"
      ],
      "execution_count": 0,
      "outputs": []
    },
    {
      "metadata": {
        "id": "RqsNv6qGfD0_",
        "colab_type": "code",
        "colab": {}
      },
      "cell_type": "code",
      "source": [
        "x_train, y_train = data[0]\n",
        "x_test, y_test = data[1]\n"
      ],
      "execution_count": 0,
      "outputs": []
    },
    {
      "metadata": {
        "id": "pFlr5-UofLlr",
        "colab_type": "code",
        "colab": {}
      },
      "cell_type": "code",
      "source": [
        "x_train = x_train.reshape(60000, 28, 28, 1)\n",
        "x_test = x_test.reshape(10000, 28, 28, 1)"
      ],
      "execution_count": 0,
      "outputs": []
    },
    {
      "metadata": {
        "id": "NQUGsjnoflWy",
        "colab_type": "code",
        "outputId": "e5fa7c82-fef2-4640-c9b3-dbb1b984c5d1",
        "colab": {
          "base_uri": "https://localhost:8080/",
          "height": 34
        }
      },
      "cell_type": "code",
      "source": [
        "x_train.shape"
      ],
      "execution_count": 32,
      "outputs": [
        {
          "output_type": "execute_result",
          "data": {
            "text/plain": [
              "(60000, 28, 28, 1)"
            ]
          },
          "metadata": {
            "tags": []
          },
          "execution_count": 32
        }
      ]
    },
    {
      "metadata": {
        "id": "-b8lgF9kfvhI",
        "colab_type": "code",
        "colab": {}
      },
      "cell_type": "code",
      "source": [
        "y_train = keras.utils.np_utils.to_categorical(y_train, num_classes = num_classes)\n",
        "y_test = keras.utils.np_utils.to_categorical(y_test, num_classes = num_classes)"
      ],
      "execution_count": 0,
      "outputs": []
    },
    {
      "metadata": {
        "id": "UlG1Jk6dgAl7",
        "colab_type": "code",
        "colab": {}
      },
      "cell_type": "code",
      "source": [
        "model = Sequential()\n",
        "model.add(Conv2D(32, kernel_size=(3, 3), activation='relu', input_shape=(28, 28, 1)))\n",
        "model.add(Conv2D(64, kernel_size=(3, 3), activation='relu'))\n",
        "model.add(MaxPooling2D(pool_size=(2, 2)))\n",
        "model.add(Dropout(0.5))\n",
        "model.add(Flatten())\n",
        "model.add(Dense(128, activation='relu'))\n",
        "model.add(Dropout(0.5))\n",
        "model.add(Dense(num_classes, activation='softmax'))"
      ],
      "execution_count": 0,
      "outputs": []
    },
    {
      "metadata": {
        "id": "LzYdFbkXgDae",
        "colab_type": "code",
        "colab": {}
      },
      "cell_type": "code",
      "source": [
        "from keras.optimizers import Adam"
      ],
      "execution_count": 0,
      "outputs": []
    },
    {
      "metadata": {
        "id": "eKMPAI4Thcmf",
        "colab_type": "code",
        "colab": {}
      },
      "cell_type": "code",
      "source": [
        "# model.compile(Adam(lr=0.01), metrics=['accuracy'], loss=keras.losses.categorical_crossentropy)\n",
        "\n",
        "model.compile(loss=keras.losses.categorical_crossentropy,\n",
        "              optimizer=keras.optimizers.Adadelta(),\n",
        "              metrics=['accuracy'])"
      ],
      "execution_count": 0,
      "outputs": []
    },
    {
      "metadata": {
        "id": "mdbCYtc6hoST",
        "colab_type": "code",
        "colab": {
          "base_uri": "https://localhost:8080/",
          "height": 459
        },
        "outputId": "076df2c7-0e8d-4902-b15a-ed82fb4bcf05"
      },
      "cell_type": "code",
      "source": [
        "model.fit(x_train, y_train, epochs=epochs, batch_size=batch_size, verbose=1, validation_data=(x_test, y_test))"
      ],
      "execution_count": 42,
      "outputs": [
        {
          "output_type": "stream",
          "text": [
            "Train on 60000 samples, validate on 10000 samples\n",
            "Epoch 1/12\n",
            "60000/60000 [==============================] - 9s 157us/step - loss: 0.0415 - acc: 0.9873 - val_loss: 0.0316 - val_acc: 0.9902\n",
            "Epoch 2/12\n",
            "60000/60000 [==============================] - 9s 155us/step - loss: 0.0444 - acc: 0.9873 - val_loss: 0.0307 - val_acc: 0.9906\n",
            "Epoch 3/12\n",
            "60000/60000 [==============================] - 9s 155us/step - loss: 0.0426 - acc: 0.9879 - val_loss: 0.0264 - val_acc: 0.9914\n",
            "Epoch 4/12\n",
            "60000/60000 [==============================] - 9s 156us/step - loss: 0.0406 - acc: 0.9883 - val_loss: 0.0329 - val_acc: 0.9911\n",
            "Epoch 5/12\n",
            "60000/60000 [==============================] - 9s 156us/step - loss: 0.0420 - acc: 0.9881 - val_loss: 0.0268 - val_acc: 0.9925\n",
            "Epoch 6/12\n",
            "60000/60000 [==============================] - 9s 155us/step - loss: 0.0437 - acc: 0.9879 - val_loss: 0.0260 - val_acc: 0.9915\n",
            "Epoch 7/12\n",
            "60000/60000 [==============================] - 9s 155us/step - loss: 0.0425 - acc: 0.9883 - val_loss: 0.0409 - val_acc: 0.9894\n",
            "Epoch 8/12\n",
            "60000/60000 [==============================] - 9s 157us/step - loss: 0.0400 - acc: 0.9885 - val_loss: 0.0298 - val_acc: 0.9917\n",
            "Epoch 9/12\n",
            "60000/60000 [==============================] - 9s 155us/step - loss: 0.0414 - acc: 0.9883 - val_loss: 0.0296 - val_acc: 0.9917\n",
            "Epoch 10/12\n",
            "60000/60000 [==============================] - 9s 155us/step - loss: 0.0401 - acc: 0.9889 - val_loss: 0.0337 - val_acc: 0.9917\n",
            "Epoch 11/12\n",
            "60000/60000 [==============================] - 9s 155us/step - loss: 0.0417 - acc: 0.9889 - val_loss: 0.0384 - val_acc: 0.9922\n",
            "Epoch 12/12\n",
            "60000/60000 [==============================] - 9s 155us/step - loss: 0.0450 - acc: 0.9883 - val_loss: 0.0346 - val_acc: 0.9902\n"
          ],
          "name": "stdout"
        },
        {
          "output_type": "execute_result",
          "data": {
            "text/plain": [
              "<keras.callbacks.History at 0x7f879dc33908>"
            ]
          },
          "metadata": {
            "tags": []
          },
          "execution_count": 42
        }
      ]
    },
    {
      "metadata": {
        "id": "8XkzzlEtpr49",
        "colab_type": "code",
        "colab": {}
      },
      "cell_type": "code",
      "source": [
        ""
      ],
      "execution_count": 0,
      "outputs": []
    }
  ]
}