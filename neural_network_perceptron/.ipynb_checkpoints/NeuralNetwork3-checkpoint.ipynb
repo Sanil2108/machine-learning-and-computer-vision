{
 "cells": [
  {
   "cell_type": "code",
   "execution_count": 1,
   "metadata": {
    "collapsed": true
   },
   "outputs": [],
   "source": [
    "import numpy as np\n",
    "import matplotlib.pyplot as plt"
   ]
  },
  {
   "cell_type": "code",
   "execution_count": 52,
   "metadata": {
    "collapsed": false
   },
   "outputs": [],
   "source": [
    "def draw(x1, x2):\n",
    "    ln = plt.plot(x1, x2)\n",
    "    \n",
    "def sigmoid(score):\n",
    "    return 1/(1+np.exp(-score))\n",
    "\n",
    "def calculate_error(line_parameters, points, y):\n",
    "    p = sigmoid(points * line_parameters)\n",
    "    error = -((np.log(p).T * y) + (np.log(1-p).T * (1-y)))/len(y)\n",
    "    return error"
   ]
  },
  {
   "cell_type": "code",
   "execution_count": 54,
   "metadata": {
    "collapsed": false
   },
   "outputs": [],
   "source": [
    "n_pts = 10\n",
    "np.random.seed(0)\n",
    "b = np.ones(n_pts)\n",
    "top_region = np.array([np.random.normal(10, 2, n_pts), \n",
    "                       np.random.normal(12, 2, n_pts), b]).transpose()\n",
    "bottom_region = np.array([np.random.normal(5, 2, n_pts), \n",
    "                       np.random.normal(6, 2, n_pts), b]).transpose()\n",
    "all_pts = np.vstack((top_region, bottom_region))\n",
    "w1 = -0.1\n",
    "w2 = -0.15\n",
    "b = 0\n",
    "line_parameters = np.matrix([w1, w2, b]).T\n",
    "x1 = np.array([bottom_region[:, 0].min(), top_region[:, 0].max()])\n",
    "x2 = -b/w2 + x1 * (-w1/w2)\n",
    "linear_combination  = all_pts*line_parameters\n",
    "probablities = sigmoid(linear_combination)"
   ]
  },
  {
   "cell_type": "code",
   "execution_count": 55,
   "metadata": {
    "collapsed": false
   },
   "outputs": [
    {
     "data": {
      "image/png": "[encoded data removed]",
      "text/plain": [
       "<Figure size 288x288 with 1 Axes>"
      ]
     },
     "metadata": {},
     "output_type": "display_data"
    }
   ],
   "source": [
    "_, ax = plt.subplots(figsize=(4, 4))\n",
    "ax.scatter(top_region[:, 0], top_region[:, 1], color='r')\n",
    "ax.scatter(bottom_region[:, 0], bottom_region[:, 1], color='b')\n",
    "draw(x1, x2)\n",
    "plt.show()"
   ]
  },
  {
   "cell_type": "code",
   "execution_count": 57,
   "metadata": {
    "collapsed": false
   },
   "outputs": [
    {
     "data": {
      "text/plain": [
       "matrix([[0.84528472]])"
      ]
     },
     "execution_count": 57,
     "metadata": {},
     "output_type": "execute_result"
    }
   ],
   "source": [
    "labels = np.array([np.zeros(n_pts), np.ones(n_pts)]).reshape(2*n_pts, 1)\n",
    "calculate_error(line_parameters, all_pts, labels)"
   ]
  },
  {
   "cell_type": "code",
   "execution_count": 56,
   "metadata": {
    "collapsed": false
   },
   "outputs": [
    {
     "data": {
      "text/plain": [
       "array([[13.52810469, 12.28808714,  1.        ],\n",
       "       [10.80031442, 14.90854701,  1.        ],\n",
       "       [11.95747597, 13.52207545,  1.        ],\n",
       "       [14.4817864 , 12.24335003,  1.        ],\n",
       "       [13.73511598, 12.88772647,  1.        ],\n",
       "       [ 8.04544424, 12.66734865,  1.        ],\n",
       "       [11.90017684, 14.98815815,  1.        ],\n",
       "       [ 9.69728558, 11.58968347,  1.        ],\n",
       "       [ 9.7935623 , 12.6261354 ,  1.        ],\n",
       "       [10.821197  , 10.29180852,  1.        ],\n",
       "       [-0.10597963,  6.30989485,  1.        ],\n",
       "       [ 6.30723719,  6.75632504,  1.        ],\n",
       "       [ 6.7288724 ,  4.2244285 ,  1.        ],\n",
       "       [ 3.51566996,  2.03840706,  1.        ],\n",
       "       [ 9.53950925,  5.3041757 ,  1.        ],\n",
       "       [ 2.09126865,  6.31269794,  1.        ],\n",
       "       [ 5.09151703,  8.46058136,  1.        ],\n",
       "       [ 4.6256323 ,  8.4047597 ,  1.        ],\n",
       "       [ 8.06555843,  5.22534637,  1.        ],\n",
       "       [ 7.93871754,  5.3953945 ,  1.        ]])"
      ]
     },
     "execution_count": 56,
     "metadata": {},
     "output_type": "execute_result"
    }
   ],
   "source": [
    "all_pts"
   ]
  },
  {
   "cell_type": "code",
   "execution_count": null,
   "metadata": {
    "collapsed": true
   },
   "outputs": [],
   "source": []
  }
 ],
 "metadata": {
  "kernelspec": {
   "display_name": "Python 3",
   "language": "python",
   "name": "python3"
  },
  "language_info": {
   "codemirror_mode": {
    "name": "ipython",
    "version": 3
   },
   "file_extension": ".py",
   "mimetype": "text/x-python",
   "name": "python",
   "nbconvert_exporter": "python",
   "pygments_lexer": "ipython3",
   "version": "3.5.3"
  }
 },
 "nbformat": 4,
 "nbformat_minor": 2
}
