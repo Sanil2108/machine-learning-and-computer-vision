{
 "cells": [
  {
   "cell_type": "code",
   "execution_count": 28,
   "metadata": {
    "collapsed": true
   },
   "outputs": [],
   "source": [
    "import numpy as np\n",
    "import matplotlib.pyplot as plt\n",
    "\n",
    "def draw(x1, x2):\n",
    "    ln = plt.plot(x1, x2)\n",
    "    \n",
    "def sigmoid(score):\n",
    "    return 1/(1+np.exp(-score))\n",
    "\n",
    "def calculate_error(line_parameters, points, y):\n",
    "    p = sigmoid(points * line_parameters)\n",
    "    error = -((np.log(p).T * y) + (np.log(1-p).T * (1-y)))/len(y)\n",
    "    return error\n",
    "\n",
    "def gradient_descent(line_parameters, points, y, alpha):\n",
    "    m = len(y)\n",
    "    for i in range(2000):\n",
    "        p = sigmoid(points*line_parameters)\n",
    "        gradient = (points.T * (p - y))*(alpha/m)\n",
    "        line_parameters = line_parameters - gradient\n",
    "        w1 = line_parameters.item(0)\n",
    "        w2 = line_parameters.item(1)\n",
    "        b = line_parameters.item(2)\n",
    "        x1 = np.array([points[:, 0].min(), points[:, 0].max()])\n",
    "        x2 = -b/w2 + x1 * (-w1/w2)\n",
    "    draw(x1, x2)\n",
    "    return line_parameters\n",
    "\n",
    "\n",
    "n_pts = 100\n",
    "np.random.seed(0)\n",
    "b = np.ones(n_pts)\n",
    "top_region = np.array([np.random.normal(10, 2, n_pts), \n",
    "                       np.random.normal(12, 2, n_pts), b]).transpose()\n",
    "bottom_region = np.array([np.random.normal(5, 2, n_pts), \n",
    "                       np.random.normal(6, 2, n_pts), b]).transpose()\n",
    "all_pts = np.vstack((top_region, bottom_region))\n",
    "# w1 = -0.1\n",
    "# w2 = -0.15\n",
    "# b = 0\n",
    "line_parameters = np.matrix([np.zeros(3)]).T\n",
    "linear_combination  = all_pts*line_parameters\n",
    "probablities = sigmoid(linear_combination)\n",
    "\n",
    "_, ax = plt.subplots(figsize=(4, 4))\n",
    "ax.scatter(top_region[:, 0], top_region[:, 1], color='r')\n",
    "ax.scatter(bottom_region[:, 0], bottom_region[:, 1], color='b')\n",
    "labels = np.array([np.zeros(n_pts), np.ones(n_pts)]).reshape(2*n_pts, 1)\n",
    "calculate_error(line_parameters, all_pts, labels)\n",
    "gradient_descent(line_parameters, all_pts, labels, 0.06)\n",
    "# draw(x1, x2)\n",
    "plt.show()\n",
    "\n",
    "\n",
    "\n",
    "np.array([1, 2, 3])*3"
   ]
  },
  {
   "cell_type": "code",
   "execution_count": null,
   "metadata": {
    "collapsed": true
   },
   "outputs": [],
   "source": []
  }
 ],
 "metadata": {
  "kernelspec": {
   "display_name": "Python 3",
   "language": "python",
   "name": "python3"
  },
  "language_info": {
   "codemirror_mode": {
    "name": "ipython",
    "version": 3
   },
   "file_extension": ".py",
   "mimetype": "text/x-python",
   "name": "python",
   "nbconvert_exporter": "python",
   "pygments_lexer": "ipython3",
   "version": "3.5.3"
  }
 },
 "nbformat": 4,
 "nbformat_minor": 2
}
